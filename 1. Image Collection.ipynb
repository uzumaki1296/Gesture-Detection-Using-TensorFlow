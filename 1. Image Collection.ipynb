{
 "cells": [
  {
   "cell_type": "markdown",
   "metadata": {},
   "source": [
    "# 1. Import Dependencies"
   ]
  },
  {
   "cell_type": "code",
   "execution_count": 1,
   "metadata": {},
   "outputs": [
    {
     "name": "stdout",
     "output_type": "stream",
     "text": [
      "Requirement already satisfied: opencv-python in ./tfod/lib/python3.9/site-packages (4.7.0.72)\r\n",
      "Requirement already satisfied: numpy>=1.17.0 in ./tfod/lib/python3.9/site-packages (from opencv-python) (1.24.3)\r\n"
     ]
    }
   ],
   "source": [
    "!pip install opencv-python"
   ]
  },
  {
   "cell_type": "code",
   "execution_count": 2,
   "metadata": {},
   "outputs": [],
   "source": [
    "# Import opencv\n",
    "import cv2 \n",
    "\n",
    "# Import uuid\n",
    "import uuid\n",
    "\n",
    "# Import Operating System\n",
    "import os\n",
    "\n",
    "# Import time\n",
    "import time"
   ]
  },
  {
   "cell_type": "markdown",
   "metadata": {},
   "source": [
    "# 2. Define Images to Collect"
   ]
  },
  {
   "cell_type": "code",
   "execution_count": 3,
   "metadata": {},
   "outputs": [],
   "source": [
    "labels = ['thumbsup', 'thumbsdown', 'thankyou', 'livelong']\n",
    "number_imgs = 5"
   ]
  },
  {
   "cell_type": "markdown",
   "metadata": {},
   "source": [
    "# 3. Setup Folders "
   ]
  },
  {
   "cell_type": "code",
   "execution_count": 4,
   "metadata": {},
   "outputs": [],
   "source": [
    "IMAGES_PATH = os.path.join('Tensorflow', 'workspace', 'images', 'collectedimages')"
   ]
  },
  {
   "cell_type": "code",
   "execution_count": 5,
   "metadata": {},
   "outputs": [
    {
     "name": "stdout",
     "output_type": "stream",
     "text": [
      "Tensorflow/workspace/images/collectedimages\n"
     ]
    }
   ],
   "source": [
    "print(IMAGES_PATH)"
   ]
  },
  {
   "cell_type": "code",
   "execution_count": 6,
   "metadata": {},
   "outputs": [
    {
     "data": {
      "text/plain": [
       "'posix'"
      ]
     },
     "execution_count": 6,
     "metadata": {},
     "output_type": "execute_result"
    }
   ],
   "source": [
    "os.name"
   ]
  },
  {
   "cell_type": "code",
   "execution_count": 7,
   "metadata": {},
   "outputs": [],
   "source": [
    "if not os.path.exists(IMAGES_PATH):\n",
    "    if os.name == 'posix':\n",
    "        !mkdir -p {IMAGES_PATH}\n",
    "    if os.name == 'nt':\n",
    "         !mkdir {IMAGES_PATH}\n",
    "for label in labels:\n",
    "    path = os.path.join(IMAGES_PATH, label)\n",
    "    if not os.path.exists(path):\n",
    "        !mkdir {path}"
   ]
  },
  {
   "cell_type": "markdown",
   "metadata": {},
   "source": [
    "# 4. Capture Images"
   ]
  },
  {
   "cell_type": "code",
   "execution_count": 8,
   "metadata": {},
   "outputs": [
    {
     "name": "stdout",
     "output_type": "stream",
     "text": [
      "Collecting images for thumbsup\n",
      "Collecting image 0\n",
      "Collecting image 1\n",
      "Collecting image 2\n",
      "Collecting image 3\n",
      "Collecting image 4\n",
      "Collecting images for thumbsdown\n",
      "Collecting image 0\n",
      "Collecting image 1\n",
      "Collecting image 2\n",
      "Collecting image 3\n",
      "Collecting image 4\n",
      "Collecting images for thankyou\n",
      "Collecting image 0\n",
      "Collecting image 1\n",
      "Collecting image 2\n",
      "Collecting image 3\n",
      "Collecting image 4\n",
      "Collecting images for livelong\n",
      "Collecting image 0\n",
      "Collecting image 1\n",
      "Collecting image 2\n",
      "Collecting image 3\n",
      "Collecting image 4\n"
     ]
    }
   ],
   "source": [
    "for label in labels:\n",
    "    cap = cv2.VideoCapture(1)#Connects to WebCam\n",
    "    print('Collecting images for {}'.format(label))\n",
    "    time.sleep(5)\n",
    "    for imgnum in range(number_imgs):\n",
    "        print('Collecting image {}'.format(imgnum))\n",
    "        ret, frame = cap.read()\n",
    "        imgname = os.path.join(IMAGES_PATH,label,label+'.'+'{}.jpg'.format(str(uuid.uuid1())))\n",
    "        cv2.imwrite(imgname, frame)\n",
    "        cv2.imshow('frame', frame)\n",
    "        time.sleep(2)\n",
    "\n",
    "        if cv2.waitKey(1) & 0xFF == ord('q'):\n",
    "            break\n",
    "cap.release()\n",
    "cv2.destroyAllWindows()"
   ]
  },
  {
   "cell_type": "markdown",
   "metadata": {},
   "source": [
    "# 5. Image Labelling"
   ]
  },
  {
   "cell_type": "code",
   "execution_count": 9,
   "metadata": {},
   "outputs": [
    {
     "name": "stdout",
     "output_type": "stream",
     "text": [
      "Collecting pyqt5\n",
      "  Downloading PyQt5-5.15.9-cp37-abi3-macosx_10_13_x86_64.whl (7.0 MB)\n",
      "\u001b[2K     \u001b[90m━━━━━━━━━━━━━━━━━━━━━━━━━━━━━━━━━━━━━━━━\u001b[0m \u001b[32m7.0/7.0 MB\u001b[0m \u001b[31m17.5 MB/s\u001b[0m eta \u001b[36m0:00:00\u001b[0ma \u001b[36m0:00:01\u001b[0m\n",
      "\u001b[?25hCollecting lxml\n",
      "  Downloading lxml-4.9.2-cp39-cp39-macosx_10_15_x86_64.whl (4.8 MB)\n",
      "\u001b[2K     \u001b[90m━━━━━━━━━━━━━━━━━━━━━━━━━━━━━━━━━━━━━━━━\u001b[0m \u001b[32m4.8/4.8 MB\u001b[0m \u001b[31m25.4 MB/s\u001b[0m eta \u001b[36m0:00:00\u001b[0ma \u001b[36m0:00:01\u001b[0m\n",
      "\u001b[?25hCollecting PyQt5-sip<13,>=12.11 (from pyqt5)\n",
      "  Downloading PyQt5_sip-12.12.1-cp39-cp39-macosx_10_9_universal2.whl (142 kB)\n",
      "\u001b[2K     \u001b[90m━━━━━━━━━━━━━━━━━━━━━━━━━━━━━━━━━━━━━━\u001b[0m \u001b[32m142.7/142.7 kB\u001b[0m \u001b[31m15.4 MB/s\u001b[0m eta \u001b[36m0:00:00\u001b[0m\n",
      "\u001b[?25hCollecting PyQt5-Qt5>=5.15.2 (from pyqt5)\n",
      "  Downloading PyQt5_Qt5-5.15.2-py3-none-macosx_10_13_intel.whl (40.5 MB)\n",
      "\u001b[2K     \u001b[90m━━━━━━━━━━━━━━━━━━━━━━━━━━━━━━━━━━━━━━━━\u001b[0m \u001b[32m40.5/40.5 MB\u001b[0m \u001b[31m23.7 MB/s\u001b[0m eta \u001b[36m0:00:00\u001b[0m00:01\u001b[0m00:01\u001b[0m\n",
      "\u001b[?25hInstalling collected packages: PyQt5-Qt5, PyQt5-sip, lxml, pyqt5\n",
      "Successfully installed PyQt5-Qt5-5.15.2 PyQt5-sip-12.12.1 lxml-4.9.2 pyqt5-5.15.9\n"
     ]
    }
   ],
   "source": [
    "!pip install --upgrade pyqt5 lxml"
   ]
  },
  {
   "cell_type": "code",
   "execution_count": 10,
   "metadata": {
    "collapsed": true
   },
   "outputs": [
    {
     "name": "stdout",
     "output_type": "stream",
     "text": [
      "Package            Version\r\n",
      "------------------ --------\r\n",
      "appnope            0.1.3\r\n",
      "asttokens          2.2.1\r\n",
      "backcall           0.2.0\r\n",
      "comm               0.1.3\r\n",
      "debugpy            1.6.7\r\n",
      "decorator          5.1.1\r\n",
      "executing          1.2.0\r\n",
      "importlib-metadata 6.6.0\r\n",
      "ipykernel          6.23.0\r\n",
      "ipython            8.13.2\r\n",
      "jedi               0.18.2\r\n",
      "jupyter_client     8.2.0\r\n",
      "jupyter_core       5.3.0\r\n",
      "lxml               4.9.2\r\n",
      "matplotlib-inline  0.1.6\r\n",
      "nest-asyncio       1.5.6\r\n",
      "numpy              1.24.3\r\n",
      "opencv-python      4.7.0.72\r\n",
      "packaging          23.1\r\n",
      "parso              0.8.3\r\n",
      "pexpect            4.8.0\r\n",
      "pickleshare        0.7.5\r\n",
      "pip                23.1.2\r\n",
      "platformdirs       3.5.0\r\n",
      "prompt-toolkit     3.0.38\r\n",
      "psutil             5.9.5\r\n",
      "ptyprocess         0.7.0\r\n",
      "pure-eval          0.2.2\r\n",
      "Pygments           2.15.1\r\n",
      "PyQt5              5.15.9\r\n",
      "PyQt5-Qt5          5.15.2\r\n",
      "PyQt5-sip          12.12.1\r\n",
      "python-dateutil    2.8.2\r\n",
      "pyzmq              25.0.2\r\n",
      "setuptools         58.1.0\r\n",
      "six                1.16.0\r\n",
      "stack-data         0.6.2\r\n",
      "tornado            6.3.1\r\n",
      "traitlets          5.9.0\r\n",
      "typing_extensions  4.5.0\r\n",
      "wcwidth            0.2.6\r\n",
      "zipp               3.15.0\r\n"
     ]
    }
   ],
   "source": [
    "!pip list"
   ]
  },
  {
   "cell_type": "code",
   "execution_count": 11,
   "metadata": {},
   "outputs": [],
   "source": [
    "LABELIMG_PATH = os.path.join('Tensorflow', 'labelimg')"
   ]
  },
  {
   "cell_type": "code",
   "execution_count": 12,
   "metadata": {},
   "outputs": [
    {
     "name": "stdout",
     "output_type": "stream",
     "text": [
      "Cloning into 'Tensorflow/labelimg'...\n",
      "remote: Enumerating objects: 2097, done.\u001b[K\n",
      "remote: Counting objects: 100% (7/7), done.\u001b[K\n",
      "remote: Compressing objects: 100% (7/7), done.\u001b[K\n",
      "remote: Total 2097 (delta 0), reused 4 (delta 0), pack-reused 2090\u001b[K\n",
      "Receiving objects: 100% (2097/2097), 237.14 MiB | 28.09 MiB/s, done.\n",
      "Resolving deltas: 100% (1242/1242), done.\n"
     ]
    }
   ],
   "source": [
    "if not os.path.exists(LABELIMG_PATH):\n",
    "    !mkdir {LABELIMG_PATH}\n",
    "    !git clone https://github.com/tzutalin/labelImg {LABELIMG_PATH}"
   ]
  },
  {
   "cell_type": "code",
   "execution_count": 14,
   "metadata": {},
   "outputs": [
    {
     "name": "stdout",
     "output_type": "stream",
     "text": [
      "pyrcc5 -o libs/resources.py resources.qrc\r\n"
     ]
    }
   ],
   "source": [
    "if os.name == 'posix':\n",
    "    !cd {LABELIMG_PATH} && make qt5py3\n",
    "if os.name =='nt':\n",
    "    !cd {LABELIMG_PATH} && pyrcc5 -o libs/resources.py resources.qrc"
   ]
  },
  {
   "cell_type": "code",
   "execution_count": null,
   "metadata": {
    "scrolled": true
   },
   "outputs": [
    {
     "name": "stdout",
     "output_type": "stream",
     "text": [
      "2023-05-10 16:34:52.820 python[15643:411422] +[CATransaction synchronize] called within transaction\n",
      "2023-05-10 16:34:53.072 python[15643:411422] +[CATransaction synchronize] called within transaction\n",
      "2023-05-10 16:34:53.624 python[15643:411422] +[CATransaction synchronize] called within transaction\n",
      "2023-05-10 16:34:56.431 python[15643:411422] +[CATransaction synchronize] called within transaction\n",
      "2023-05-10 16:35:03.609 python[15643:411422] +[CATransaction synchronize] called within transaction\n",
      "2023-05-10 16:35:03.942 python[15643:411422] +[CATransaction synchronize] called within transaction\n",
      "2023-05-10 16:35:23.215 python[15643:411422] +[CATransaction synchronize] called within transaction\n",
      "2023-05-10 16:35:43.915 python[15643:411422] +[CATransaction synchronize] called within transaction\n",
      "2023-05-10 16:35:52.927 python[15643:411422] +[CATransaction synchronize] called within transaction\n",
      "2023-05-10 16:36:03.048 python[15643:411422] +[CATransaction synchronize] called within transaction\n",
      "Image:/Users/tanmayeekulkarni/Desktop/Project/TFODCourse/Tensorflow/workspace/images/collectedimages/thumbsup/thumbsup.b0d34b1e-ef6f-11ed-871c-726ec5ec05a7.jpg -> Annotation:/Users/tanmayeekulkarni/Desktop/Project/TFODCourse/Tensorflow/workspace/images/collectedimages/thumbsup/thumbsup.b0d34b1e-ef6f-11ed-871c-726ec5ec05a7.xml\n",
      "Cancel creation.\n",
      "Cancel creation.\n",
      "Image:/Users/tanmayeekulkarni/Desktop/Project/TFODCourse/Tensorflow/workspace/images/collectedimages/thumbsup/thumbsup.b6065748-ef6f-11ed-871c-726ec5ec05a7.jpg -> Annotation:/Users/tanmayeekulkarni/Desktop/Project/TFODCourse/Tensorflow/workspace/images/collectedimages/thumbsup/thumbsup.b6065748-ef6f-11ed-871c-726ec5ec05a7.xml\n",
      "Image:/Users/tanmayeekulkarni/Desktop/Project/TFODCourse/Tensorflow/workspace/images/collectedimages/thumbsup/thumbsup.b4cb6c2e-ef6f-11ed-871c-726ec5ec05a7.jpg -> Annotation:/Users/tanmayeekulkarni/Desktop/Project/TFODCourse/Tensorflow/workspace/images/collectedimages/thumbsup/thumbsup.b4cb6c2e-ef6f-11ed-871c-726ec5ec05a7.xml\n",
      "Cancel creation.\n",
      "Image:/Users/tanmayeekulkarni/Desktop/Project/TFODCourse/Tensorflow/workspace/images/collectedimages/thumbsup/thumbsup.b24fa898-ef6f-11ed-871c-726ec5ec05a7.jpg -> Annotation:/Users/tanmayeekulkarni/Desktop/Project/TFODCourse/Tensorflow/workspace/images/collectedimages/thumbsup/thumbsup.b24fa898-ef6f-11ed-871c-726ec5ec05a7.xml\n",
      "Image:/Users/tanmayeekulkarni/Desktop/Project/TFODCourse/Tensorflow/workspace/images/collectedimages/thumbsup/thumbsup.b38fdcbe-ef6f-11ed-871c-726ec5ec05a7.jpg -> Annotation:/Users/tanmayeekulkarni/Desktop/Project/TFODCourse/Tensorflow/workspace/images/collectedimages/thumbsup/thumbsup.b38fdcbe-ef6f-11ed-871c-726ec5ec05a7.xml\n",
      "Image:/Users/tanmayeekulkarni/Desktop/Project/TFODCourse/Tensorflow/workspace/images/collectedimages/thumbsup/thumbsup.b6065748-ef6f-11ed-871c-726ec5ec05a7.jpg -> Annotation:/Users/tanmayeekulkarni/Desktop/Project/TFODCourse/Tensorflow/workspace/images/collectedimages/thumbsup/thumbsup.b6065748-ef6f-11ed-871c-726ec5ec05a7.xml\n",
      "2023-05-10 16:59:33.184 python[15643:411422] +[CATransaction synchronize] called within transaction\n",
      "2023-05-10 16:59:33.285 python[15643:411422] +[CATransaction synchronize] called within transaction\n",
      "Image:/Users/tanmayeekulkarni/Desktop/Project/TFODCourse/Tensorflow/workspace/images/collectedimages/livelong/livelong.ccc94abc-ef6f-11ed-871c-726ec5ec05a7.jpg -> Annotation:/Users/tanmayeekulkarni/Desktop/Project/TFODCourse/Tensorflow/workspace/images/collectedimages/livelong/livelong.ccc94abc-ef6f-11ed-871c-726ec5ec05a7.xml\n",
      "Image:/Users/tanmayeekulkarni/Desktop/Project/TFODCourse/Tensorflow/workspace/images/collectedimages/livelong/livelong.ce09389c-ef6f-11ed-871c-726ec5ec05a7.jpg -> Annotation:/Users/tanmayeekulkarni/Desktop/Project/TFODCourse/Tensorflow/workspace/images/collectedimages/livelong/livelong.ce09389c-ef6f-11ed-871c-726ec5ec05a7.xml\n",
      "Image:/Users/tanmayeekulkarni/Desktop/Project/TFODCourse/Tensorflow/workspace/images/collectedimages/livelong/livelong.cf44bfc4-ef6f-11ed-871c-726ec5ec05a7.jpg -> Annotation:/Users/tanmayeekulkarni/Desktop/Project/TFODCourse/Tensorflow/workspace/images/collectedimages/livelong/livelong.cf44bfc4-ef6f-11ed-871c-726ec5ec05a7.xml\n",
      "Image:/Users/tanmayeekulkarni/Desktop/Project/TFODCourse/Tensorflow/workspace/images/collectedimages/livelong/livelong.d0848cac-ef6f-11ed-871c-726ec5ec05a7.jpg -> Annotation:/Users/tanmayeekulkarni/Desktop/Project/TFODCourse/Tensorflow/workspace/images/collectedimages/livelong/livelong.d0848cac-ef6f-11ed-871c-726ec5ec05a7.xml\n",
      "2023-05-10 17:01:37.995 python[15643:411422] +[CATransaction synchronize] called within transaction\n",
      "2023-05-10 17:01:38.073 python[15643:411422] +[CATransaction synchronize] called within transaction\n",
      "Image:/Users/tanmayeekulkarni/Desktop/Project/TFODCourse/Tensorflow/workspace/images/collectedimages/thankyou/thankyou.c4bdf282-ef6f-11ed-871c-726ec5ec05a7.jpg -> Annotation:/Users/tanmayeekulkarni/Desktop/Project/TFODCourse/Tensorflow/workspace/images/collectedimages/thankyou/thankyou.c4bdf282-ef6f-11ed-871c-726ec5ec05a7.xml\n",
      "Image:/Users/tanmayeekulkarni/Desktop/Project/TFODCourse/Tensorflow/workspace/images/collectedimages/thankyou/thankyou.c37e35c6-ef6f-11ed-871c-726ec5ec05a7.jpg -> Annotation:/Users/tanmayeekulkarni/Desktop/Project/TFODCourse/Tensorflow/workspace/images/collectedimages/thankyou/thankyou.c37e35c6-ef6f-11ed-871c-726ec5ec05a7.xml\n",
      "Image:/Users/tanmayeekulkarni/Desktop/Project/TFODCourse/Tensorflow/workspace/images/collectedimages/thankyou/thankyou.c883d79c-ef6f-11ed-871c-726ec5ec05a7.jpg -> Annotation:/Users/tanmayeekulkarni/Desktop/Project/TFODCourse/Tensorflow/workspace/images/collectedimages/thankyou/thankyou.c883d79c-ef6f-11ed-871c-726ec5ec05a7.xml\n",
      "Image:/Users/tanmayeekulkarni/Desktop/Project/TFODCourse/Tensorflow/workspace/images/collectedimages/thankyou/thankyou.c748678a-ef6f-11ed-871c-726ec5ec05a7.jpg -> Annotation:/Users/tanmayeekulkarni/Desktop/Project/TFODCourse/Tensorflow/workspace/images/collectedimages/thankyou/thankyou.c748678a-ef6f-11ed-871c-726ec5ec05a7.xml\n",
      "Image:/Users/tanmayeekulkarni/Desktop/Project/TFODCourse/Tensorflow/workspace/images/collectedimages/thankyou/thankyou.c6082612-ef6f-11ed-871c-726ec5ec05a7.jpg -> Annotation:/Users/tanmayeekulkarni/Desktop/Project/TFODCourse/Tensorflow/workspace/images/collectedimages/thankyou/thankyou.c6082612-ef6f-11ed-871c-726ec5ec05a7.xml\n",
      "2023-05-10 17:08:10.168 python[15643:411422] +[CATransaction synchronize] called within transaction\n",
      "2023-05-10 17:08:10.365 python[15643:411422] +[CATransaction synchronize] called within transaction\n",
      "Image:/Users/tanmayeekulkarni/Desktop/Project/TFODCourse/Tensorflow/workspace/images/collectedimages/livelong/livelong.d1bfdefa-ef6f-11ed-871c-726ec5ec05a7.jpg -> Annotation:/Users/tanmayeekulkarni/Desktop/Project/TFODCourse/Tensorflow/workspace/images/collectedimages/thankyou/livelong.d1bfdefa-ef6f-11ed-871c-726ec5ec05a7.xml\n",
      "2023-05-10 17:08:53.620 python[15643:411422] +[CATransaction synchronize] called within transaction\n",
      "2023-05-10 17:08:53.677 python[15643:411422] +[CATransaction synchronize] called within transaction\n",
      "Image:/Users/tanmayeekulkarni/Desktop/Project/TFODCourse/Tensorflow/workspace/images/collectedimages/thumbsdown/thumbsdown.ba4c4970-ef6f-11ed-871c-726ec5ec05a7.jpg -> Annotation:/Users/tanmayeekulkarni/Desktop/Project/TFODCourse/Tensorflow/workspace/images/collectedimages/thumbsdown/thumbsdown.ba4c4970-ef6f-11ed-871c-726ec5ec05a7.xml\n",
      "Image:/Users/tanmayeekulkarni/Desktop/Project/TFODCourse/Tensorflow/workspace/images/collectedimages/thumbsdown/thumbsdown.bb8c17fc-ef6f-11ed-871c-726ec5ec05a7.jpg -> Annotation:/Users/tanmayeekulkarni/Desktop/Project/TFODCourse/Tensorflow/workspace/images/collectedimages/thumbsdown/thumbsdown.bb8c17fc-ef6f-11ed-871c-726ec5ec05a7.xml\n",
      "Image:/Users/tanmayeekulkarni/Desktop/Project/TFODCourse/Tensorflow/workspace/images/collectedimages/thumbsdown/thumbsdown.bcc6ffc4-ef6f-11ed-871c-726ec5ec05a7.jpg -> Annotation:/Users/tanmayeekulkarni/Desktop/Project/TFODCourse/Tensorflow/workspace/images/collectedimages/thumbsdown/thumbsdown.bcc6ffc4-ef6f-11ed-871c-726ec5ec05a7.xml\n",
      "Image:/Users/tanmayeekulkarni/Desktop/Project/TFODCourse/Tensorflow/workspace/images/collectedimages/thumbsdown/thumbsdown.be02c5d0-ef6f-11ed-871c-726ec5ec05a7.jpg -> Annotation:/Users/tanmayeekulkarni/Desktop/Project/TFODCourse/Tensorflow/workspace/images/collectedimages/thumbsdown/thumbsdown.be02c5d0-ef6f-11ed-871c-726ec5ec05a7.xml\n"
     ]
    },
    {
     "name": "stdout",
     "output_type": "stream",
     "text": [
      "Image:/Users/tanmayeekulkarni/Desktop/Project/TFODCourse/Tensorflow/workspace/images/collectedimages/thumbsdown/thumbsdown.bf3ce46c-ef6f-11ed-871c-726ec5ec05a7.jpg -> Annotation:/Users/tanmayeekulkarni/Desktop/Project/TFODCourse/Tensorflow/workspace/images/collectedimages/thumbsdown/thumbsdown.bf3ce46c-ef6f-11ed-871c-726ec5ec05a7.xml\r\n"
     ]
    }
   ],
   "source": [
    "!cd {LABELIMG_PATH} && python labelImg.py"
   ]
  },
  {
   "cell_type": "markdown",
   "metadata": {},
   "source": [
    "# 6. Move them into a Training and Testing Partition"
   ]
  },
  {
   "cell_type": "markdown",
   "metadata": {},
   "source": [
    "# OPTIONAL - 7. Compress them for Colab Training"
   ]
  },
  {
   "cell_type": "code",
   "execution_count": 20,
   "metadata": {},
   "outputs": [],
   "source": [
    "TRAIN_PATH = os.path.join('Tensorflow', 'workspace', 'images', 'train')\n",
    "TEST_PATH = os.path.join('Tensorflow', 'workspace', 'images', 'test')\n",
    "ARCHIVE_PATH = os.path.join('Tensorflow', 'workspace', 'images', 'archive.tar.gz')"
   ]
  },
  {
   "cell_type": "code",
   "execution_count": 21,
   "metadata": {},
   "outputs": [],
   "source": [
    "!tar -czf {ARCHIVE_PATH} {TRAIN_PATH} {TEST_PATH}"
   ]
  },
  {
   "cell_type": "code",
   "execution_count": null,
   "metadata": {},
   "outputs": [],
   "source": []
  }
 ],
 "metadata": {
  "kernelspec": {
   "display_name": "tfodj",
   "language": "python",
   "name": "tfodj"
  },
  "language_info": {
   "codemirror_mode": {
    "name": "ipython",
    "version": 3
   },
   "file_extension": ".py",
   "mimetype": "text/x-python",
   "name": "python",
   "nbconvert_exporter": "python",
   "pygments_lexer": "ipython3",
   "version": "3.9.13"
  }
 },
 "nbformat": 4,
 "nbformat_minor": 2
}
